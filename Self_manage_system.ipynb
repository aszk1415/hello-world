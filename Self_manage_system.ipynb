{
 "cells": [
  {
   "cell_type": "code",
   "execution_count": 1,
   "id": "5c3b4bd6",
   "metadata": {},
   "outputs": [],
   "source": [
    "%config IPCompleter.greedy=True"
   ]
  },
  {
   "cell_type": "code",
   "execution_count": 11,
   "id": "49ff6c5a",
   "metadata": {},
   "outputs": [],
   "source": [
    "from selenium import webdriver\n",
    "from selenium.webdriver.common.keys import Keys\n",
    "from openpyxl import load_workbook\n",
    "import re\n",
    "import time\n",
    "import tkinter as tk\n",
    "from tkinter import filedialog"
   ]
  },
  {
   "cell_type": "code",
   "execution_count": 14,
   "id": "2583e1cb",
   "metadata": {},
   "outputs": [
    {
     "name": "stdout",
     "output_type": "stream",
     "text": [
      "C:/Users/1E/失智區 110年01-12體重.xlsx\n"
     ]
    }
   ],
   "source": [
    "window = tk.Tk()\n",
    "window.geometry(\"500x300\")\n",
    "def open_file():\n",
    "    filename = filedialog.askopenfilename(title='開啟xlsx檔案', filetypes=[('xlsx', '*.xlsx')])\n",
    "    entry_filename.insert('insert', filename)\n",
    "# 設定button按鈕接受功能\n",
    "button_import = tk.Button(window, text=\"匯入檔案\", command=open_file).pack()\n",
    "# 設定entry\n",
    "entry_filename = tk.Entry(window, width=30, font=(\"宋體\", 10, 'bold'))\n",
    "entry_filename.pack()\n",
    "# 嘗試輸出\n",
    "def print_file():\n",
    "    a = entry_filename.get()  #用get提取entry中的內容\n",
    "    print(a)\n",
    "    return a\n",
    "tk.Button(window, text=\"輸出\", command=print_file).pack()\n",
    "window.mainloop()"
   ]
  },
  {
   "cell_type": "code",
   "execution_count": 32,
   "id": "c4635189",
   "metadata": {},
   "outputs": [],
   "source": [
    "def single(url,name,num_list):\n",
    "    wb = load_workbook(url)\n",
    "    ws = wb['Sheet1']\n",
    "    for row in ws.iter_rows('B2:B74'):\n",
    "        for cell in row:\n",
    "            if ws.cell.value == name:\n",
    "                num_list.append(row)\n",
    "    return num_list\n",
    "    "
   ]
  },
  {
   "cell_type": "code",
   "execution_count": 33,
   "id": "358f2962",
   "metadata": {},
   "outputs": [
    {
     "ename": "TypeError",
     "evalue": "'str' object cannot be interpreted as an integer",
     "output_type": "error",
     "traceback": [
      "\u001b[1;31m---------------------------------------------------------------------------\u001b[0m",
      "\u001b[1;31mTypeError\u001b[0m                                 Traceback (most recent call last)",
      "\u001b[1;32m<ipython-input-33-f0691782a175>\u001b[0m in \u001b[0;36m<module>\u001b[1;34m\u001b[0m\n\u001b[0;32m      1\u001b[0m \u001b[0mnum_list\u001b[0m \u001b[1;33m=\u001b[0m \u001b[1;33m[\u001b[0m\u001b[1;33m]\u001b[0m\u001b[1;33m\u001b[0m\u001b[1;33m\u001b[0m\u001b[0m\n\u001b[1;32m----> 2\u001b[1;33m \u001b[0msingle\u001b[0m\u001b[1;33m(\u001b[0m\u001b[1;34m'C:/Users/1E/失智區 110年01-12體重.xlsx'\u001b[0m\u001b[1;33m,\u001b[0m\u001b[1;34m'黃中興'\u001b[0m\u001b[1;33m,\u001b[0m\u001b[0mnum_list\u001b[0m\u001b[1;33m)\u001b[0m\u001b[1;33m\u001b[0m\u001b[1;33m\u001b[0m\u001b[0m\n\u001b[0m\u001b[0;32m      3\u001b[0m \u001b[0mprint\u001b[0m\u001b[1;33m(\u001b[0m\u001b[0mnum_list\u001b[0m\u001b[1;33m)\u001b[0m\u001b[1;33m\u001b[0m\u001b[1;33m\u001b[0m\u001b[0m\n",
      "\u001b[1;32m<ipython-input-32-cafa362a5cb3>\u001b[0m in \u001b[0;36msingle\u001b[1;34m(url, name, num_list)\u001b[0m\n\u001b[0;32m      2\u001b[0m     \u001b[0mwb\u001b[0m \u001b[1;33m=\u001b[0m \u001b[0mload_workbook\u001b[0m\u001b[1;33m(\u001b[0m\u001b[0murl\u001b[0m\u001b[1;33m)\u001b[0m\u001b[1;33m\u001b[0m\u001b[1;33m\u001b[0m\u001b[0m\n\u001b[0;32m      3\u001b[0m     \u001b[0mws\u001b[0m \u001b[1;33m=\u001b[0m \u001b[0mwb\u001b[0m\u001b[1;33m[\u001b[0m\u001b[1;34m'Sheet1'\u001b[0m\u001b[1;33m]\u001b[0m\u001b[1;33m\u001b[0m\u001b[1;33m\u001b[0m\u001b[0m\n\u001b[1;32m----> 4\u001b[1;33m     \u001b[1;32mfor\u001b[0m \u001b[0mrow\u001b[0m \u001b[1;32min\u001b[0m \u001b[0mws\u001b[0m\u001b[1;33m.\u001b[0m\u001b[0miter_rows\u001b[0m\u001b[1;33m(\u001b[0m\u001b[1;34m'B2:B74'\u001b[0m\u001b[1;33m)\u001b[0m\u001b[1;33m:\u001b[0m\u001b[1;33m\u001b[0m\u001b[1;33m\u001b[0m\u001b[0m\n\u001b[0m\u001b[0;32m      5\u001b[0m         \u001b[1;32mfor\u001b[0m \u001b[0mcell\u001b[0m \u001b[1;32min\u001b[0m \u001b[0mrow\u001b[0m\u001b[1;33m:\u001b[0m\u001b[1;33m\u001b[0m\u001b[1;33m\u001b[0m\u001b[0m\n\u001b[0;32m      6\u001b[0m             \u001b[1;32mif\u001b[0m \u001b[0mws\u001b[0m\u001b[1;33m.\u001b[0m\u001b[0mcell\u001b[0m\u001b[1;33m.\u001b[0m\u001b[0mvalue\u001b[0m \u001b[1;33m==\u001b[0m \u001b[0mname\u001b[0m\u001b[1;33m:\u001b[0m\u001b[1;33m\u001b[0m\u001b[1;33m\u001b[0m\u001b[0m\n",
      "\u001b[1;32m~\\anaconda3\\lib\\site-packages\\openpyxl\\worksheet\\worksheet.py\u001b[0m in \u001b[0;36m_cells_by_row\u001b[1;34m(self, min_col, min_row, max_col, max_row, values_only)\u001b[0m\n\u001b[0;32m    443\u001b[0m \u001b[1;33m\u001b[0m\u001b[0m\n\u001b[0;32m    444\u001b[0m     \u001b[1;32mdef\u001b[0m \u001b[0m_cells_by_row\u001b[0m\u001b[1;33m(\u001b[0m\u001b[0mself\u001b[0m\u001b[1;33m,\u001b[0m \u001b[0mmin_col\u001b[0m\u001b[1;33m,\u001b[0m \u001b[0mmin_row\u001b[0m\u001b[1;33m,\u001b[0m \u001b[0mmax_col\u001b[0m\u001b[1;33m,\u001b[0m \u001b[0mmax_row\u001b[0m\u001b[1;33m,\u001b[0m \u001b[0mvalues_only\u001b[0m\u001b[1;33m=\u001b[0m\u001b[1;32mFalse\u001b[0m\u001b[1;33m)\u001b[0m\u001b[1;33m:\u001b[0m\u001b[1;33m\u001b[0m\u001b[1;33m\u001b[0m\u001b[0m\n\u001b[1;32m--> 445\u001b[1;33m         \u001b[1;32mfor\u001b[0m \u001b[0mrow\u001b[0m \u001b[1;32min\u001b[0m \u001b[0mrange\u001b[0m\u001b[1;33m(\u001b[0m\u001b[0mmin_row\u001b[0m\u001b[1;33m,\u001b[0m \u001b[0mmax_row\u001b[0m \u001b[1;33m+\u001b[0m \u001b[1;36m1\u001b[0m\u001b[1;33m)\u001b[0m\u001b[1;33m:\u001b[0m\u001b[1;33m\u001b[0m\u001b[1;33m\u001b[0m\u001b[0m\n\u001b[0m\u001b[0;32m    446\u001b[0m             \u001b[0mcells\u001b[0m \u001b[1;33m=\u001b[0m \u001b[1;33m(\u001b[0m\u001b[0mself\u001b[0m\u001b[1;33m.\u001b[0m\u001b[0mcell\u001b[0m\u001b[1;33m(\u001b[0m\u001b[0mrow\u001b[0m\u001b[1;33m=\u001b[0m\u001b[0mrow\u001b[0m\u001b[1;33m,\u001b[0m \u001b[0mcolumn\u001b[0m\u001b[1;33m=\u001b[0m\u001b[0mcolumn\u001b[0m\u001b[1;33m)\u001b[0m \u001b[1;32mfor\u001b[0m \u001b[0mcolumn\u001b[0m \u001b[1;32min\u001b[0m \u001b[0mrange\u001b[0m\u001b[1;33m(\u001b[0m\u001b[0mmin_col\u001b[0m\u001b[1;33m,\u001b[0m \u001b[0mmax_col\u001b[0m \u001b[1;33m+\u001b[0m \u001b[1;36m1\u001b[0m\u001b[1;33m)\u001b[0m\u001b[1;33m)\u001b[0m\u001b[1;33m\u001b[0m\u001b[1;33m\u001b[0m\u001b[0m\n\u001b[0;32m    447\u001b[0m             \u001b[1;32mif\u001b[0m \u001b[0mvalues_only\u001b[0m\u001b[1;33m:\u001b[0m\u001b[1;33m\u001b[0m\u001b[1;33m\u001b[0m\u001b[0m\n",
      "\u001b[1;31mTypeError\u001b[0m: 'str' object cannot be interpreted as an integer"
     ]
    }
   ],
   "source": [
    "num_list = []\n",
    "single('C:/Users/1E/失智區 110年01-12體重.xlsx','黃中興',num_list)\n",
    "print(num_list)"
   ]
  },
  {
   "cell_type": "code",
   "execution_count": 22,
   "id": "7b490eda",
   "metadata": {},
   "outputs": [],
   "source": [
    "# 建立主視窗和 Frame（把元件變成群組的容器）\n",
    "window = tk.Tk()\n",
    "top_frame = tk.Frame(window)"
   ]
  },
  {
   "cell_type": "code",
   "execution_count": 23,
   "id": "ce5eb02c",
   "metadata": {},
   "outputs": [],
   "source": [
    "# 將元件分為 top/bottom 兩群並加入主視窗\n",
    "top_frame.pack()\n",
    "bottom_frame = tk.Frame(window)\n",
    "bottom_frame.pack(side=tk.BOTTOM)"
   ]
  },
  {
   "cell_type": "code",
   "execution_count": 24,
   "id": "6b5e641b",
   "metadata": {},
   "outputs": [
    {
     "ename": "KeyboardInterrupt",
     "evalue": "",
     "output_type": "error",
     "traceback": [
      "\u001b[1;31m---------------------------------------------------------------------------\u001b[0m",
      "\u001b[1;31mKeyboardInterrupt\u001b[0m                         Traceback (most recent call last)",
      "\u001b[1;32m<ipython-input-24-0c7927279924>\u001b[0m in \u001b[0;36m<module>\u001b[1;34m\u001b[0m\n\u001b[1;32m----> 1\u001b[1;33m \u001b[0mwindow\u001b[0m\u001b[1;33m.\u001b[0m\u001b[0mmainloop\u001b[0m\u001b[1;33m(\u001b[0m\u001b[1;33m)\u001b[0m\u001b[1;33m\u001b[0m\u001b[1;33m\u001b[0m\u001b[0m\n\u001b[0m",
      "\u001b[1;32m~\\anaconda3\\lib\\tkinter\\__init__.py\u001b[0m in \u001b[0;36mmainloop\u001b[1;34m(self, n)\u001b[0m\n\u001b[0;32m   1427\u001b[0m     \u001b[1;32mdef\u001b[0m \u001b[0mmainloop\u001b[0m\u001b[1;33m(\u001b[0m\u001b[0mself\u001b[0m\u001b[1;33m,\u001b[0m \u001b[0mn\u001b[0m\u001b[1;33m=\u001b[0m\u001b[1;36m0\u001b[0m\u001b[1;33m)\u001b[0m\u001b[1;33m:\u001b[0m\u001b[1;33m\u001b[0m\u001b[1;33m\u001b[0m\u001b[0m\n\u001b[0;32m   1428\u001b[0m         \u001b[1;34m\"\"\"Call the mainloop of Tk.\"\"\"\u001b[0m\u001b[1;33m\u001b[0m\u001b[1;33m\u001b[0m\u001b[0m\n\u001b[1;32m-> 1429\u001b[1;33m         \u001b[0mself\u001b[0m\u001b[1;33m.\u001b[0m\u001b[0mtk\u001b[0m\u001b[1;33m.\u001b[0m\u001b[0mmainloop\u001b[0m\u001b[1;33m(\u001b[0m\u001b[0mn\u001b[0m\u001b[1;33m)\u001b[0m\u001b[1;33m\u001b[0m\u001b[1;33m\u001b[0m\u001b[0m\n\u001b[0m\u001b[0;32m   1430\u001b[0m \u001b[1;33m\u001b[0m\u001b[0m\n\u001b[0;32m   1431\u001b[0m     \u001b[1;32mdef\u001b[0m \u001b[0mquit\u001b[0m\u001b[1;33m(\u001b[0m\u001b[0mself\u001b[0m\u001b[1;33m)\u001b[0m\u001b[1;33m:\u001b[0m\u001b[1;33m\u001b[0m\u001b[1;33m\u001b[0m\u001b[0m\n",
      "\u001b[1;31mKeyboardInterrupt\u001b[0m: "
     ]
    }
   ],
   "source": [
    "window.mainloop()"
   ]
  },
  {
   "cell_type": "code",
   "execution_count": 3,
   "id": "2d58db4f",
   "metadata": {},
   "outputs": [],
   "source": [
    "PATH = r\"C:\\Users\\1E\\PycharmProjects\\auto_MMSE_ADL\\chromedriver.exe\"\n",
    "driver = webdriver.Chrome(PATH)"
   ]
  },
  {
   "cell_type": "code",
   "execution_count": 4,
   "id": "6843f73b",
   "metadata": {},
   "outputs": [],
   "source": [
    "driver.get('http://chnhserver/CHNH/EIPN/#')"
   ]
  },
  {
   "cell_type": "code",
   "execution_count": 32,
   "id": "2626a24e",
   "metadata": {},
   "outputs": [],
   "source": [
    "driver.implicitly_wait(10)"
   ]
  },
  {
   "cell_type": "code",
   "execution_count": 5,
   "id": "fa90dec9",
   "metadata": {},
   "outputs": [],
   "source": [
    "#輸入帳密\n",
    "user =  driver.find_element_by_xpath('//*[@id=\"userid\"]')\n",
    "user.send_keys('1121')\n",
    "driver.find_element_by_xpath('//*[@id=\"loginbtn\"]').click()"
   ]
  },
  {
   "cell_type": "code",
   "execution_count": 7,
   "id": "3b5710cc",
   "metadata": {},
   "outputs": [],
   "source": [
    "now_handle = driver.current_window_handle\n",
    "# 獲取所有視窗控制程式碼\n",
    "all_handles = driver.window_handles\n",
    "for handle in all_handles:\n",
    "    if handle != now_handle:\n",
    "# 輸出待選擇的視窗控制程式碼\n",
    "# print(handle)\n",
    "        driver.switch_to.window(handle)\n",
    "        time.sleep(1)"
   ]
  },
  {
   "cell_type": "code",
   "execution_count": 8,
   "id": "154a0b67",
   "metadata": {},
   "outputs": [],
   "source": [
    "driver.find_element_by_xpath('//*[@id=\"btnMainMenu\"]').click()\n",
    "driver.switch_to.frame('mainmenuframe')\n",
    "driver.find_element_by_xpath('//*[@id=\"tbmainmenu\"]/tbody/tr[4]/td[2]').click()\n",
    "driver.find_element_by_xpath('//*[@id=\"SubTable_CASE\"]/tbody/tr[15]/td[2]').click()\n",
    "driver.find_element_by_xpath('//*[@id=\"CASE_060\"]/td[2]/table/tbody/tr[11]/td[2]').click()"
   ]
  },
  {
   "cell_type": "code",
   "execution_count": 17,
   "id": "a8be8a6c",
   "metadata": {},
   "outputs": [],
   "source": [
    "driver.switch_to.default_content()\n",
    "driver.switch_to.frame('iframe0')\n",
    "driver.switch_to.frame('headgrid')"
   ]
  },
  {
   "cell_type": "code",
   "execution_count": 20,
   "id": "3d25a25b",
   "metadata": {},
   "outputs": [],
   "source": [
    "#選擇案號後按ENTER\n",
    "person_id =  driver.find_element_by_xpath('//*[@id=\"appno\"]')\n",
    "person_id.send_keys('K0086')\n",
    "person_id.send_keys(Keys.ENTER)"
   ]
  },
  {
   "cell_type": "code",
   "execution_count": 21,
   "id": "9a79f1d4",
   "metadata": {},
   "outputs": [],
   "source": [
    "#新增\n",
    "driver.switch_to.default_content()\n",
    "driver.switch_to.frame('iframe0')\n",
    "driver.switch_to.frame('toolbar')\n",
    "driver.find_element_by_xpath('/html/body/form/table/tbody/tr/td[2]/table/tbody/tr/td[5]/div').click()"
   ]
  },
  {
   "cell_type": "code",
   "execution_count": 25,
   "id": "f1d862fb",
   "metadata": {},
   "outputs": [],
   "source": [
    "driver.switch_to.default_content()\n",
    "driver.switch_to.frame('iframe0')\n",
    "driver.switch_to.frame('headgrid')"
   ]
  },
  {
   "cell_type": "code",
   "execution_count": null,
   "id": "b7c462f1",
   "metadata": {},
   "outputs": [],
   "source": [
    "#記數打勾\n",
    "driver.find_element_by_xpath('//*[@id=\"CheckBox_11_8\"]').click()"
   ]
  },
  {
   "cell_type": "code",
   "execution_count": 26,
   "id": "49db3182",
   "metadata": {},
   "outputs": [],
   "source": [
    "#輸入體重\n",
    "driver.find_element_by_xpath('//*[@id=\"GridView1\"]/tbody/tr[12]/td[7]').click()\n",
    "\n",
    "weight = driver.find_element_by_xpath('//*[@id=\"weight_GridViewEdit\"]')\n",
    "\n",
    "weight.send_keys('40.50')"
   ]
  },
  {
   "cell_type": "code",
   "execution_count": 27,
   "id": "3beca845",
   "metadata": {},
   "outputs": [],
   "source": [
    "#輸入案號\n",
    "driver.find_element_by_xpath('//*[@id=\"GridView1\"]/tbody/tr[12]/td[3]').click()\n",
    "person_id =  driver.find_element_by_xpath('//*[@id=\"appno_GridViewEdit\"]')\n",
    "person_id.send_keys('K0086')\n",
    "person_id.send_keys(Keys.ENTER)"
   ]
  },
  {
   "cell_type": "code",
   "execution_count": 28,
   "id": "2d143043",
   "metadata": {},
   "outputs": [],
   "source": [
    "#輸入日期\n",
    "driver.find_element_by_xpath('//*[@id=\"GridView1\"]/tbody/tr[12]/td[2]').click()\n",
    "date = driver.find_element_by_xpath('//*[@id=\"ddate_GridViewEdit\"]')\n",
    "date.send_keys('1100627')"
   ]
  },
  {
   "cell_type": "code",
   "execution_count": 29,
   "id": "d6118021",
   "metadata": {},
   "outputs": [],
   "source": [
    "driver.switch_to.default_content()\n",
    "driver.switch_to.frame('iframe0')\n",
    "driver.switch_to.frame('toolbar')"
   ]
  },
  {
   "cell_type": "code",
   "execution_count": 30,
   "id": "7752035d",
   "metadata": {},
   "outputs": [],
   "source": [
    "#存檔\n",
    "save = driver.find_element_by_xpath('//*[@id=\"SAVE_TOT\"]/div')\n",
    "save.click()"
   ]
  },
  {
   "cell_type": "code",
   "execution_count": 31,
   "id": "12ba5dc5",
   "metadata": {},
   "outputs": [],
   "source": [
    "#處理alert跳出欄位\n",
    "driver.switch_to.alert.accept()"
   ]
  },
  {
   "cell_type": "code",
   "execution_count": 107,
   "id": "094f4810",
   "metadata": {},
   "outputs": [],
   "source": [
    "wb = load_workbook('失智區 110年01-12體重.xlsx')\n",
    "sheet = wb['Sheet1']\n",
    "a = sheet['B11']"
   ]
  },
  {
   "cell_type": "code",
   "execution_count": 108,
   "id": "8f78fffd",
   "metadata": {},
   "outputs": [],
   "source": [
    "namelist = []\n",
    "for i in range(58):\n",
    "    if sheet[f'B{i+2}'].value != None:\n",
    "        namelist.append(i+2)"
   ]
  },
  {
   "cell_type": "code",
   "execution_count": 109,
   "id": "93d3b351",
   "metadata": {},
   "outputs": [
    {
     "name": "stdout",
     "output_type": "stream",
     "text": [
      "56.4/2\n",
      "78.7/3\n",
      "55.5/4\n",
      "47.15/5\n",
      "71.4/6\n",
      "53/7\n",
      "49/8\n",
      "51/9\n",
      "41.7/10\n",
      "70.5/14\n",
      "56.4/15\n",
      "46/17\n",
      "51/18\n",
      "64.1/19\n",
      "66/20\n",
      "47.2/21\n",
      "49/22\n",
      "58.8/23\n",
      "58.5/24\n",
      "46.1/26\n",
      "56/28\n",
      "53/29\n",
      "66.7/30\n",
      "56.5/31\n",
      "41.9/34\n",
      "47.9/35\n",
      "46.9/37\n",
      "41.9/38\n",
      "72.2/39\n",
      "56/40\n",
      "50.9/41\n",
      "50.5/43\n"
     ]
    }
   ],
   "source": [
    "for num in namelist:\n",
    "    print(str(sheet[f'U{num}'].value)+'/'+ str(num))"
   ]
  },
  {
   "cell_type": "code",
   "execution_count": 86,
   "id": "ff680e04",
   "metadata": {
    "scrolled": true
   },
   "outputs": [
    {
     "name": "stdout",
     "output_type": "stream",
     "text": [
      "  6月(6/27)\n",
      "['6/27']\n"
     ]
    }
   ],
   "source": [
    "#取出標題中的日期\n",
    "date = sheet['U1'].value\n",
    "print(date)\n",
    "date1 = re.findall(r'[(](.*?)[)]',date)\n",
    "print(date1)\n"
   ]
  },
  {
   "cell_type": "code",
   "execution_count": null,
   "id": "15578c80",
   "metadata": {},
   "outputs": [],
   "source": [
    "day = []\n",
    "name_id = []\n",
    "weight = []\n",
    "def get_weight(month,num,wb,name_id,weight):\n",
    "    month_line ={'1':'F','2':'G','3':'J','4':'M','5':'P','6':'S','7':'V','8':'Y','9':'AB','10':'AE','11':'AH','12':'AK'}\n",
    "    sheet = wb['Sheet1']\n",
    "    cell = month_line[month]+num\n",
    "    #取出日期\n",
    "    day_ = sheet[month_line[month]+'1'].value\n",
    "    day = re.findall(r'[(](.*?)[)]',day_)\n",
    "    #取出重量\n",
    "    weight = sheet[cell].value\n",
    "    "
   ]
  },
  {
   "cell_type": "code",
   "execution_count": null,
   "id": "562c80c4",
   "metadata": {},
   "outputs": [],
   "source": [
    "def get_nameid():\n",
    "    "
   ]
  },
  {
   "cell_type": "code",
   "execution_count": 15,
   "id": "69a4f449",
   "metadata": {},
   "outputs": [],
   "source": [
    "def setup(username,password):\n",
    "    PATH = r\"C:\\Users\\1E\\PycharmProjects\\auto_MMSE_ADL\\chromedriver.exe\"\n",
    "    driver = webdriver.Chrome(PATH)\n",
    "    driver.get('http://chnhserver/CHNH/EIPN/#')\n",
    "    driver.implicitly_wait(10)\n",
    "    user =  driver.find_element_by_xpath('//*[@id=\"userid\"]')\n",
    "    user.send_keys(username)\n",
    "    pw = driver.find_element_by_xpath('//*[@id=\"userpwd\"]')\n",
    "    pw.send_keys(password)\n",
    "    driver.find_element_by_xpath('//*[@id=\"loginbtn\"]').click()\n",
    "    time.sleep(3)\n",
    "    now_handle = driver.current_window_handle\n",
    "# 獲取所有視窗控制程式碼\n",
    "    all_handles = driver.window_handles\n",
    "    for handle in all_handles:\n",
    "        if handle != now_handle:\n",
    "            driver.switch_to.window(handle)\n",
    "            time.sleep(1)\n",
    "    print(driver.page_source)\n",
    "    driver.find_element_by_xpath('/html/body/form/table/tbody/tr[1]/td/table/tbody/tr/td[1]').click()\n",
    "    driver.switch_to.frame('mainmenuframe')\n",
    "    driver.find_element_by_xpath('//*[@id=\"tbmainmenu\"]/tbody/tr[4]/td[2]').click()\n",
    "    driver.find_element_by_xpath('//*[@id=\"SubTable_CASE\"]/tbody/tr[15]/td[2]').click()\n",
    "    driver.find_element_by_xpath('//*[@id=\"CASE_060\"]/td[2]/table/tbody/tr[11]/td[2]').click()\n",
    "    return driver\n",
    "    "
   ]
  },
  {
   "cell_type": "code",
   "execution_count": 18,
   "id": "c2dfefe6",
   "metadata": {},
   "outputs": [],
   "source": [
    "def automanipulate(year,day,name_id,weight,driver):\n",
    "    driver.switch_to.default_content()\n",
    "    driver.switch_to.frame('iframe0')\n",
    "    driver.switch_to.frame('headgrid')\n",
    "    #選擇案號後按ENTER\n",
    "    person_id =  driver.find_element_by_xpath('//*[@id=\"appno\"]')\n",
    "    person_id.send_keys(name_id)\n",
    "    person_id.send_keys(Keys.ENTER)\n",
    "    #新增\n",
    "    driver.switch_to.default_content()\n",
    "    driver.switch_to.frame('iframe0')\n",
    "    driver.switch_to.frame('toolbar')\n",
    "    driver.find_element_by_xpath('/html/body/form/table/tbody/tr/td[2]/table/tbody/tr/td[5]/div').click()\n",
    "    \n",
    "    driver.switch_to.default_content()\n",
    "    driver.switch_to.frame('iframe0')\n",
    "    driver.switch_to.frame('headgrid')\n",
    "    \n",
    "    #記數打勾\n",
    "    driver.find_element_by_xpath('//*[@id=\"CheckBox_11_8\"]').click()\n",
    "    \n",
    "    #輸入體重\n",
    "    driver.find_element_by_xpath('//*[@id=\"GridView1\"]/tbody/tr[12]/td[7]').click()\n",
    "\n",
    "    weight_num = driver.find_element_by_xpath('//*[@id=\"weight_GridViewEdit\"]')\n",
    "\n",
    "    weight_num.send_keys(weight)\n",
    "    \n",
    "    #輸入案號\n",
    "    driver.find_element_by_xpath('//*[@id=\"GridView1\"]/tbody/tr[12]/td[3]').click()\n",
    "    person_id =  driver.find_element_by_xpath('//*[@id=\"appno_GridViewEdit\"]')\n",
    "    person_id.send_keys(name_id)\n",
    "    person_id.send_keys(Keys.ENTER)\n",
    "    \n",
    "    #輸入日期\n",
    "    driver.find_element_by_xpath('//*[@id=\"GridView1\"]/tbody/tr[12]/td[2]').click()\n",
    "    date = driver.find_element_by_xpath('//*[@id=\"ddate_GridViewEdit\"]')\n",
    "    date.send_keys(year+day)\n",
    "    \n",
    "    driver.switch_to.default_content()\n",
    "    driver.switch_to.frame('iframe0')\n",
    "    driver.switch_to.frame('toolbar')\n",
    "    \n",
    "    #存檔\n",
    "    save = driver.find_element_by_xpath('//*[@id=\"SAVE_TOT\"]/div')\n",
    "    save.click()\n",
    "    \n",
    "    #處理alert跳出欄位\n",
    "    driver.switch_to.alert.accept()"
   ]
  },
  {
   "cell_type": "code",
   "execution_count": 20,
   "id": "56daff3e",
   "metadata": {},
   "outputs": [
    {
     "name": "stdout",
     "output_type": "stream",
     "text": [
      "<html><head>\n",
      "    <title>\n",
      "        衛彰老養護中心\n",
      "    </title>\n",
      "    <meta http-equiv=\"Content-Type\" content=\"text/html; charset=utf-8\">\n",
      "    <link href=\"mainmenu.css\" type=\"text/css\" rel=\"stylesheet\">\n",
      "    <link href=\"../common/Styles/weebox.css\" rel=\"stylesheet\" type=\"text/css\">\n",
      "    <script src=\"mainmenu.js\" type=\"text/javascript\"></script>\n",
      "    <script src=\"../common/js/jquery.js\" type=\"text/javascript\"></script>\n",
      "    <script src=\"../common/js/bgiframe.js\" type=\"text/javascript\"></script>\n",
      "    <script src=\"../common/js/weebox.js\" type=\"text/javascript\"></script>\n",
      "    <script src=\"../common/js/jsbase.js\" type=\"text/javascript\"></script>\n",
      "</head>\n",
      "<body style=\"margin: 0; background-image: images/bgcheetah.gif; overflow: hidden\">\n",
      "    <form name=\"form1\" method=\"post\" action=\"mainmenu.aspx\" id=\"form1\">\n",
      "<div>\n",
      "<input type=\"hidden\" name=\"__EVENTTARGET\" id=\"__EVENTTARGET\" value=\"\">\n",
      "<input type=\"hidden\" name=\"__EVENTARGUMENT\" id=\"__EVENTARGUMENT\" value=\"\">\n",
      "<input type=\"hidden\" name=\"__VIEWSTATE\" id=\"__VIEWSTATE\" value=\"/wEPDwULLTEyMDA3MjQ2MjgPZBYCZg9kFgoCAQ8WBh4JaW5uZXJodG1sBRjlo5PnmKHpoqjpmqroqZXkvLDnmbvpjIQeBXRpdGxlBRjlo5PnmKHpoqjpmqroqZXkvLDnmbvpjIQeB29uY2xpY2sFSGxvYWRwZygnLi4vY29tbW9uL3BnaGFuZGxlNy5hc3B4JywnQ0FTMDUxMGEnLCflo5PnmKHpoqjpmqroqZXkvLDnmbvpjIQnKWQCAg8WBh8ABRjnlJ/lkb3lvrXosaHlj4rooYDns5bntIAfAQUb55Sf5ZG95b616LGh5Y+K6KGA57OW57SA6YyEHwIFSmxvYWRwZygnLi4vY29tbW9uL3BnaGFuZGxlNy5hc3B4JywnQ0FTMDUxNScsJ+eUn+WRveW+teixoeWPiuihgOezlue0gOmMhCcpZAIDDxYGHwAFGOeUn+a0u+a0u+WLleWKn+iDvemHj+ihqB8BBRjnlJ/mtLvmtLvli5Xlip/og73ph4/ooagfAgVHbG9hZHBnKCcuLi9jb21tb24vcGdoYW5kbGU3LmFzcHgnLCdDQVMwNTE3Jywn55Sf5rS75rS75YuV5Yqf6IO96YeP6KGoJylkAgQPFgYfAAUS57Ch5piT5pm66IO96YeP6KGoHwEFEuewoeaYk+aZuuiDvemHj+ihqB8CBUFsb2FkcGcoJy4uL2NvbW1vbi9wZ2hhbmRsZTcuYXNweCcsJ0NBUzA1MTgnLCfnsKHmmJPmmbrog73ph4/ooagnKWQCBQ8WBh8ABRjot4zlgJLljbHpmqrlm6DlrZDoqZXkvLAfAQUe6LeM5YCS5Y2x6Zqq5Zug5a2Q6KmV5Lyw5L2c5qWtHwIFTWxvYWRwZygnLi4vY29tbW9uL3BnaGFuZGxlNy5hc3B4JywnQ0FTMDUyNicsJ+i3jOWAkuWNsemaquWboOWtkOipleS8sOS9nOalrScpZGQSpSjEM8zvUZ1cL/yxCcLNgesu4g==\">\n",
      "</div>\n",
      "\n",
      "<script type=\"text/javascript\">\n",
      "//<![CDATA[\n",
      "var theForm = document.forms['form1'];\n",
      "if (!theForm) {\n",
      "    theForm = document.form1;\n",
      "}\n",
      "function __doPostBack(eventTarget, eventArgument) {\n",
      "    if (!theForm.onsubmit || (theForm.onsubmit() != false)) {\n",
      "        theForm.__EVENTTARGET.value = eventTarget;\n",
      "        theForm.__EVENTARGUMENT.value = eventArgument;\n",
      "        theForm.submit();\n",
      "    }\n",
      "}\n",
      "//]]>\n",
      "</script>\n",
      "\n",
      "\n",
      "<script src=\"/CHNH/WebResource.axd?d=PNQ-sIjLJSUpI-_a--yJoCzhC2G2bLpMXSiC-EHH-nBAUXWoPfO5hRV8Ornw7LbAeeUzhqbE8ufYzsonlQ0tm71VqZ01&amp;t=636271959297880478\" type=\"text/javascript\"></script>\n",
      "\n",
      "\n",
      "<script type=\"text/javascript\">\n",
      "//<![CDATA[\n",
      "var Const_NotSave=\"资料未保存!\";\n",
      "var Const_Opened=\"已经打开\";\n",
      "var Const_ConfirmMsg1=\"请确定要覆盖 [\";\n",
      "var Const_ConfirmMsg2=\"] 网页浏览?\";\n",
      "var Const_ConfirmMsg3=\"请按[确定]继续,或按[取消]停留在目前的网页\";\n",
      "var Const_ClientIP = \"192.168.1.43\";\n",
      "var Const_DisplayAlertBG = \"1\";\n",
      "var HelpUrl = \"http://tw.oiservice.com/approblem\";\n",
      "var Const_CloseWindowConfirm = \"您确定要关闭这个页面吗？\";\n",
      "var Const_EIS_MainMenu_Logout = \"確定要登出嗎？\";\n",
      "var CONST_AllowNull=\"{0}必须要有内容\";\n",
      "var CONST_Wrong_Date_Format=\"不是正确的日期格式!正确的日期输入格式是YYYY/MM/DD或YYYYMMDD。\";\n",
      "var CONST_Wrong_Month_Format=\"不是正确的月份格式!正确的月份输入格式是YYYY/MM或YYYYMM。\";\n",
      "var CONST_Wrong_Time_Format=\"不是正确的时间格式!正确的格式是HH:mm:ss\";\n",
      "var CONST_CanNot_Input=\"不能输入\";\n",
      "var CONST_CanOnly_Input=\"只能输入\";\n",
      "var CONST_Contain_CorrectChar=\"含有非法字符！\";\n",
      "var CONST_CanNot_Input_Chinese=\"不能輸入中文字符！\";\n",
      "var CONST_CanOnly_Input_Number=\"只能輸入數字！\";\n",
      "var CONST_CanOnly_Input_IntegerNumber=\"只能輸入整數!\";\n",
      "var CONST_CanOnly_Input_NumberFormat=\"只能输入有{0}位小数位的数字！\";\n",
      "var CONST_Must_Numeric=\"必须是数字！\";\n",
      "var CONST_Must_Precision=\"小数位数不能大于{0}\";\n",
      "var CONST_RegionTime=\"TW_Region\";\n",
      "//]]>\n",
      "</script>\n",
      "\n",
      "<script src=\"/CHNH/ScriptResource.axd?d=S1m67cq4PbaayMk3jqXULPM_mxcgTDTLxG5qLo0Nk1amT3XzVvYsuTdO0yuexEOngHFb2aeomEITOfx0ZpQICUGVeLtLjrgtX9HPyEqdyyOlYi7twZlKvKob5bpnoyfaA_yLBIYdfVzUzGx4XI7GTLown-M11faMlWxvZKf3JOh6aUYO0&amp;t=3f4a792d\" type=\"text/javascript\"></script>\n",
      "<script src=\"/CHNH/ScriptResource.axd?d=PV_mUiSvpd0Ie6tFyG4SOOAOlRWrhf81kf5pg_7TGAgdamaQMrVAwRWBAH7lDrpY2oZGELPrbLV9MDsuoAX7uC2C2Az2GFuqzsb8ha6nD9489lpb-_qq84kU8NCLfPAEFpXhJtTO38sEiVyEdYAGT7ZCNL_GKc3JkzDTjmdNp7sAva7O0&amp;t=3f4a792d\" type=\"text/javascript\"></script>\n",
      "<div>\n",
      "\n",
      "\t<input type=\"hidden\" name=\"__VIEWSTATEGENERATOR\" id=\"__VIEWSTATEGENERATOR\" value=\"499AAF85\">\n",
      "</div>\n",
      "    <script type=\"text/javascript\">\n",
      "//<![CDATA[\n",
      "Sys.WebForms.PageRequestManager._initialize('ScriptManager1', document.getElementById('form1'));\n",
      "Sys.WebForms.PageRequestManager.getInstance()._updateControls([], [], [], 90);\n",
      "//]]>\n",
      "</script>\n",
      "\n",
      "    <table style=\"margin-top: 0px; margin-left: 0px; height: 929px; width: 100%;\" cellspacing=\"0\" cellpadding=\"0\" border=\"0\" id=\"maintable\">\n",
      "        <tbody><tr>\n",
      "            <td style=\"background-color:blue;height:30px;\">\n",
      "                <table id=\"TopMostTable\" cellspacing=\"0\" cellpadding=\"0\" style=\"height: 30px;right:0px;left:0px;width:100%\" border=\"0\">\n",
      "                    <tbody><tr>\n",
      "                        <td width=\"146\" id=\"btnMainMenu\" onclick=\"showMainMenu()\" style=\" background:url(images/btnMainMenu1.gif);cursor:pointer\">\n",
      "                            &nbsp;\n",
      "                        </td>\n",
      "                        <td valign=\"top\" id=\"shortCutTd\">\n",
      "                            <table style=\"height: 30px\" cellspacing=\"0\" cellpadding=\"0\" width=\"100%\" border=\"0\">\n",
      "                                <tbody><tr>\n",
      "                                    <td width=\"19%\">\n",
      "                                        <table style=\"font-size: 10pt; cursor: pointer; color: #011a5a; height: 100%\" cellspacing=\"0\" cellpadding=\"0\" width=\"100%\" border=\"0\">\n",
      "                                            <tbody><tr>\n",
      "                                                <td width=\"4\" style=\"background-image: url(images/shortcutleft.gif)\">\n",
      "                                                </td>\n",
      "                                                <td id=\"fav1\" nowrap=\"nowrap\" style=\"background-image: url(images/shortcutbg.gif)\" title=\"壓瘡風險評估登錄\" onclick=\"loadpg('../common/pghandle7.aspx','CAS0510a','壓瘡風險評估登錄')\">壓瘡風險評估登錄</td>\n",
      "\n",
      "                                                <td width=\"4\" style=\"background-image: url(images/shortcutright.gif)\">\n",
      "                                                </td>\n",
      "                                            </tr>\n",
      "                                        </tbody></table>\n",
      "                                    </td>\n",
      "                                    <td width=\"20%\">\n",
      "                                        <table style=\"font-size: 10pt; cursor: pointer; color: #011a5a; height: 100%\" cellspacing=\"0\" cellpadding=\"0\" width=\"100%\" border=\"0\">\n",
      "                                            <tbody><tr>\n",
      "                                                <td width=\"4\" style=\"background-image: url(images/shortcutleft.gif)\">\n",
      "                                                </td>\n",
      "                                                <td id=\"fav2\" nowrap=\"nowrap\" style=\"background-image: url(images/shortcutbg.gif)\" title=\"生命徵象及血糖紀錄\" onclick=\"loadpg('../common/pghandle7.aspx','CAS0515','生命徵象及血糖紀錄')\">生命徵象及血糖紀</td>\n",
      "\n",
      "                                                <td width=\"4\" style=\"background-image: url(images/shortcutright.gif)\">\n",
      "                                                </td>\n",
      "                                            </tr>\n",
      "                                        </tbody></table>\n",
      "                                    </td>\n",
      "                                    <td width=\"19%\">\n",
      "                                        <table style=\"font-size: 10pt; cursor: pointer; color: #011a5a; height: 100%\" cellspacing=\"0\" cellpadding=\"0\" width=\"100%\" border=\"0\">\n",
      "                                            <tbody><tr>\n",
      "                                                <td width=\"4\" style=\"background-image: url(images/shortcutleft.gif)\">\n",
      "                                                </td>\n",
      "                                                <td id=\"fav3\" nowrap=\"nowrap\" style=\"background-image: url(images/shortcutbg.gif)\" title=\"生活活動功能量表\" onclick=\"loadpg('../common/pghandle7.aspx','CAS0517','生活活動功能量表')\">生活活動功能量表</td>\n",
      "\n",
      "                                                <td width=\"4\" style=\"background-image: url(images/shortcutright.gif)\">\n",
      "                                                </td>\n",
      "                                            </tr>\n",
      "                                        </tbody></table>\n",
      "                                    </td>\n",
      "                                    <td width=\"20%\">\n",
      "                                        <table style=\"font-size: 10pt; cursor: pointer; color: #011a5a; height: 100%\" cellspacing=\"0\" cellpadding=\"0\" width=\"100%\" border=\"0\">\n",
      "                                            <tbody><tr>\n",
      "                                                <td width=\"4\" style=\"background-image: url(images/shortcutleft.gif)\">\n",
      "                                                </td>\n",
      "                                                <td id=\"fav4\" style=\"background-image: url(images/shortcutbg.gif); white-space: nowrap;\" title=\"簡易智能量表\" onclick=\"loadpg('../common/pghandle7.aspx','CAS0518','簡易智能量表')\">簡易智能量表</td>\n",
      "\n",
      "                                                <td width=\"4\" style=\"background-image: url(images/shortcutright.gif)\">\n",
      "                                                </td>\n",
      "                                            </tr>\n",
      "                                        </tbody></table>\n",
      "                                    </td>\n",
      "                                    <td width=\"20%\">\n",
      "                                        <table style=\"font-size: 10pt; cursor: pointer; color: #011a5a; height: 100%\" cellspacing=\"0\" cellpadding=\"0\" width=\"100%\" border=\"0\">\n",
      "                                            <tbody><tr>\n",
      "                                                <td width=\"4\" style=\"background-image: url(images/shortcutleft.gif)\">\n",
      "                                                </td>\n",
      "                                                <td id=\"fav5\" style=\"background-image: url(images/shortcutbg.gif); white-space: nowrap;\" title=\"跌倒危險因子評估作業\" onclick=\"loadpg('../common/pghandle7.aspx','CAS0526','跌倒危險因子評估作業')\">跌倒危險因子評估</td>\n",
      "\n",
      "                                                <td width=\"4\" style=\"background-image: url(images/shortcutright.gif)\">\n",
      "                                                </td>\n",
      "                                            </tr>\n",
      "                                        </tbody></table>\n",
      "                                    </td>\n",
      "                                </tr>\n",
      "                            </tbody></table>\n",
      "                        </td>\n",
      "                        <td width=\"36\" title=\"Logout\" valign=\"top\" style=\"background:url(images/logout.gif);cursor: pointer;\" onclick=\"Logout()\">\n",
      "                            &nbsp;\n",
      "                        </td>\n",
      "                        <td width=\"36\" valign=\"top\" style=\"background:url(images/showdesktop.gif);cursor: pointer;\" onclick=\"showDesktop()\" title=\"Show DeskTop\">\n",
      "                            &nbsp;\n",
      "                        </td>\n",
      "                        <td valign=\"top\" id=\"btnPersonalMenu\" width=\"146px\" style=\"cursor: pointer;background:url(images/btnPersonalMenu1.gif)\" onclick=\"showPersonalMenu()\">\n",
      "                             &nbsp;\n",
      "                        </td>\n",
      "                    </tr>\n",
      "                </tbody></table>\n",
      "            </td>\n",
      "        </tr>\n",
      "        <tr>\n",
      "            <td valign=\"top\" width=\"100%\" id=\"mainapp\" style=\"padding-top: -5px; height: 100%\">\n",
      "                <!-- main application -->\n",
      "                <div id=\"alliframeDiv\" style=\"height: 100%; width: 100%\" name=\"alliframeDiv\">\n",
      "                    <div id=\"welcomeDiv\" style=\"display: block; height: 100%;\">\n",
      "                        <iframe id=\"welcomeiframe\" border=\"0\" frameborder=\"0\" height=\"100%\" name=\"welcomeiframe\" scrolling=\"no\" src=\"MessageFrm.aspx\" width=\"100%\"></iframe>\n",
      "                    </div>\n",
      "                </div>\n",
      "            </td>\n",
      "        </tr>\n",
      "        <tr>\n",
      "            <td height=\"22\">\n",
      "                <!-- switch area -->\n",
      "                <table id=\"pgtable\" style=\"height: 31px; background-image: url(images/footer_bg.gif)\" cellspacing=\"0\" cellpadding=\"0\" width=\"100%\" border=\"0\" name=\"pgtable\">\n",
      "                    <tbody><tr>\n",
      "                        <td width=\"16%\">\n",
      "                        </td>\n",
      "                        <td width=\"16%\">\n",
      "                        </td>\n",
      "                        <td width=\"16%\">\n",
      "                        </td>\n",
      "                        <td width=\"16%\">\n",
      "                        </td>\n",
      "                        <td width=\"16%\">\n",
      "                        </td>\n",
      "                        <td width=\"16%\">\n",
      "                        </td>\n",
      "                    </tr>\n",
      "                </tbody></table>\n",
      "            </td>\n",
      "        </tr>\n",
      "    </tbody></table>\n",
      "    <iframe id=\"mainmenuframe\" style=\"overflow-x: hidden; overflow-y: auto; font-size: 10pt;\n",
      "        filter: progid:DXImageTransform.Microsoft.Shadow(color='gray', Direction=135, Strength=4), progid:DXImageTransform.Microsoft.Fade(duration=0.5,overlap=0.5);\n",
      "        left: 2px; visibility: hidden; position: absolute; top: 30px\" name=\"mainmenuframe\" src=\"tbmainmenu.aspx\" frameborder=\"0\" height=\"112\" width=\"236\"></iframe>\n",
      "    <iframe id=\"favmenuframe\" style=\"font-size: 10pt; z-index: 20; visibility: hidden; position: absolute; top: 30px; right: 0px; width: 223px; height: 218px;\" name=\"favmenuframe\" src=\"favmenu.aspx\" frameborder=\"0\"></iframe>\n",
      "    <div class=\"menuStyle\" id=\"DMenu\" style=\"display: none; filter: progid:DXImageTransform.Microsoft.Shadow(color='gray', Direction=135, Strength=4), progid:DXImageTransform.Microsoft.Fade(duration=0.5,overlap=0.5)\">\n",
      "        <table id=\"dropmenu\" cellspacing=\"0\" cellpadding=\"0\" border=\"0\" name=\"dropmenu\">\n",
      "            <tbody><tr width=\"100%\">\n",
      "                <td width=\"8\" style=\"background-image: url(images/submenu_01.gif)\" height=\"6\">\n",
      "                </td>\n",
      "                <td id=\"topmenutd\" style=\"background-image: url(images/submenu_02.gif)\">\n",
      "                </td>\n",
      "                <td width=\"7\" style=\"background-image: url(images/submenu_03.gif)\" height=\"6\">\n",
      "                </td>\n",
      "            </tr>\n",
      "            <tr width=\"100%\">\n",
      "                <td colspan=\"3\">\n",
      "                    <iframe id=\"menuframe\" onmouseout=\"hidetable()\" name=\"menuframe\" src=\"\" frameborder=\"0\" scrolling=\"auto\" height=\"490\"></iframe>\n",
      "                </td>\n",
      "            </tr>\n",
      "            <tr width=\"100%\">\n",
      "                <td width=\"8\" style=\"background-image: url(images/submenu_07.gif)\" height=\"7\">\n",
      "                </td>\n",
      "                <td id=\"bottmenutd\" style=\"background-image: url(images/submenu_08.gif)\">\n",
      "                </td>\n",
      "                <td width=\"7\" style=\"background-image: url(images/submenu_09.gif)\" height=\"7\">\n",
      "                </td>\n",
      "            </tr>\n",
      "        </tbody></table>\n",
      "    </div>\n",
      "    \n",
      "\n",
      "<script type=\"text/javascript\">\n",
      "//<![CDATA[\n",
      "Sys.Application.initialize();\n",
      "//]]>\n",
      "</script>\n",
      "</form>\n",
      "    <script type=\"text/javascript\" language=\"javascript\">\n",
      "        $(document).ready(function () {\n",
      "            document.getElementById(\"maintable\").style.height = document.body.clientHeight;\n",
      "            var wd = document.getElementById(\"welcomeDiv\");\n",
      "            if (wd.clientHeight == 0 && document.getElementById(\"alliframeDiv\").clientHeight != 0)\n",
      "                wd.style.height = document.getElementById(\"alliframeDiv\").clientHeight;\n",
      "            else\n",
      "                wd.style.height = \"100%\";\n",
      "            //alert(wd.offsetWidth + \"_\" + screen.width);\n",
      "            //document.getElementById(\"shortCutTd\").style.width = (wd.clientWidth - 400) + \"px\";\n",
      "            //document.getElementById(\"TopMostTable\").style.width = wd.clientWidth - 40;\n",
      "            // alert(document.getElementById(\"TopMostTable\").clientWidth + \"_\" + document.getElementById(\"maintable\").clientWidth + \"_\" + document.body.scrollWidth);\n",
      "\n",
      "        });\n",
      "    </script>\n",
      "\n",
      "\n",
      "</body></html>\n"
     ]
    },
    {
     "name": "stdout",
     "output_type": "stream",
     "text": [
      "<class 'NoneType'>\n"
     ]
    }
   ],
   "source": [
    "k = setup('1121','')\n",
    "print(type(k))\n",
    "# automanipulate('110','0630','K0056','50.05',k)"
   ]
  }
 ],
 "metadata": {
  "kernelspec": {
   "display_name": "Python 3",
   "language": "python",
   "name": "python3"
  },
  "language_info": {
   "codemirror_mode": {
    "name": "ipython",
    "version": 3
   },
   "file_extension": ".py",
   "mimetype": "text/x-python",
   "name": "python",
   "nbconvert_exporter": "python",
   "pygments_lexer": "ipython3",
   "version": "3.8.8"
  }
 },
 "nbformat": 4,
 "nbformat_minor": 5
}
